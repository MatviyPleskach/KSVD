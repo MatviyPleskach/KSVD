{
 "cells": [
  {
   "cell_type": "code",
   "execution_count": 1,
   "metadata": {
    "collapsed": true,
    "ExecuteTime": {
     "start_time": "2024-04-09T14:41:38.317338Z",
     "end_time": "2024-04-09T14:41:46.758001Z"
    }
   },
   "outputs": [],
   "source": [
    "import turtle\n",
    "\n",
    "def koch_snowflake(t, order, size):\n",
    "    if order == 0:\n",
    "        t.forward(size)\n",
    "    else:\n",
    "        for angle in [60, -120, 60, 0]:\n",
    "            koch_snowflake(t, order-1, size/3)\n",
    "            t.left(angle)\n",
    "\n",
    "def draw_koch_snowflake(order, size):\n",
    "    t = turtle.Turtle()\n",
    "    screen = turtle.Screen()\n",
    "    screen.setup(width=800, height=800)\n",
    "    screen.title(f\"Koch Snowflake (order={order})\")\n",
    "\n",
    "    t.penup()\n",
    "    t.goto(-size/2, size/3)\n",
    "    t.pendown()\n",
    "    t.speed(0)\n",
    "\n",
    "    for _ in range(3):\n",
    "        koch_snowflake(t, order, size)\n",
    "        t.right(120)\n",
    "\n",
    "    screen.mainloop()\n",
    "\n",
    "order = 3\n",
    "size = 300\n",
    "\n",
    "draw_koch_snowflake(order, size)\n"
   ]
  },
  {
   "cell_type": "code",
   "execution_count": null,
   "outputs": [],
   "source": [],
   "metadata": {
    "collapsed": false
   }
  }
 ],
 "metadata": {
  "kernelspec": {
   "display_name": "Python 3",
   "language": "python",
   "name": "python3"
  },
  "language_info": {
   "codemirror_mode": {
    "name": "ipython",
    "version": 2
   },
   "file_extension": ".py",
   "mimetype": "text/x-python",
   "name": "python",
   "nbconvert_exporter": "python",
   "pygments_lexer": "ipython2",
   "version": "2.7.6"
  }
 },
 "nbformat": 4,
 "nbformat_minor": 0
}
